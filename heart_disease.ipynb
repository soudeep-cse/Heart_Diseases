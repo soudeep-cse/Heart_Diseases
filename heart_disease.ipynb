{
  "nbformat": 4,
  "nbformat_minor": 0,
  "metadata": {
    "colab": {
      "provenance": []
    },
    "kernelspec": {
      "name": "python3",
      "display_name": "Python 3"
    },
    "language_info": {
      "name": "python"
    }
  },
  "cells": [
    {
      "cell_type": "code",
      "execution_count": null,
      "metadata": {
        "id": "cUh_rkPySrhz"
      },
      "outputs": [],
      "source": [
        "!pip install kaggle\n",
        "\n",
        "!mkdir -p ~/.kaggle\n",
        "!cp kaggle.json ~/.kaggle/\n",
        "!chmod 600 ~/.kaggle/kaggle.json\n",
        "\n",
        "!kaggle datasets download -d johnsmith88/heart-disease-dataset\n",
        "\n",
        "path=\"/content/heart-disease-dataset.zip\"\n",
        "\n",
        "from zipfile import ZipFile\n",
        "\n",
        "with ZipFile(path,'r') as zip:\n",
        "  zip.extractall()\n",
        "  print(\"done\")"
      ]
    },
    {
      "cell_type": "code",
      "source": [
        "import numpy as np\n",
        "import pandas as pd\n",
        "import seaborn as sns\n",
        "from sklearn.model_selection import train_test_split\n",
        "from sklearn.metrics import accuracy_score\n",
        "from sklearn.preprocessing import StandardScaler\n",
        "\n",
        "df = pd.read_csv(\"/content/heart.csv\")\n",
        "\n",
        "X = df.iloc[:, :-1]\n",
        "Y = df.iloc[:, -1]"
      ],
      "metadata": {
        "id": "rIdqFp2NSzln"
      },
      "execution_count": 14,
      "outputs": []
    },
    {
      "cell_type": "code",
      "source": [
        "df.head()"
      ],
      "metadata": {
        "id": "2bcgVyS2VQ75"
      },
      "execution_count": null,
      "outputs": []
    },
    {
      "cell_type": "code",
      "source": [
        "df.info()"
      ],
      "metadata": {
        "id": "DeMZIyOVVPNw"
      },
      "execution_count": null,
      "outputs": []
    },
    {
      "cell_type": "code",
      "source": [
        "df.isnull().sum()"
      ],
      "metadata": {
        "id": "e8eUbrI3VKxW"
      },
      "execution_count": null,
      "outputs": []
    },
    {
      "cell_type": "code",
      "source": [
        "df.duplicated().sum()"
      ],
      "metadata": {
        "colab": {
          "base_uri": "https://localhost:8080/"
        },
        "id": "KOBY6AN_VKs0",
        "outputId": "ae12bd9c-860e-4224-fa62-1a8d11778ef4"
      },
      "execution_count": 9,
      "outputs": [
        {
          "output_type": "execute_result",
          "data": {
            "text/plain": [
              "723"
            ]
          },
          "metadata": {},
          "execution_count": 9
        }
      ]
    },
    {
      "cell_type": "code",
      "source": [
        "df.drop_duplicates(inplace=True)"
      ],
      "metadata": {
        "id": "eVJAg0sGVKon"
      },
      "execution_count": 12,
      "outputs": []
    },
    {
      "cell_type": "code",
      "source": [
        "df.duplicated().sum()"
      ],
      "metadata": {
        "colab": {
          "base_uri": "https://localhost:8080/"
        },
        "id": "AWRbW2BzVKfq",
        "outputId": "23f57b29-4261-4f01-9dc2-0971a2e98e73"
      },
      "execution_count": 13,
      "outputs": [
        {
          "output_type": "execute_result",
          "data": {
            "text/plain": [
              "0"
            ]
          },
          "metadata": {},
          "execution_count": 13
        }
      ]
    },
    {
      "cell_type": "code",
      "source": [
        "sns.distplot(df[\"target\"])"
      ],
      "metadata": {
        "id": "Cwk6zdKNVno2"
      },
      "execution_count": null,
      "outputs": []
    },
    {
      "cell_type": "code",
      "source": [
        "sns.countplot(data=df, x=\"target\")"
      ],
      "metadata": {
        "id": "P8keVojPVnUd"
      },
      "execution_count": null,
      "outputs": []
    },
    {
      "cell_type": "code",
      "source": [
        "scaler = StandardScaler()\n",
        "df[[\"age\"]]=scaler.fit_transform(df[[\"age\"]])\n",
        "df[[\"trestbpse\"]]=scaler.fit_transform(df[[\"trestbps\"]])\n",
        "df[[\"chol\"]]=scaler.fit_transform(df[[\"chol\"]])\n",
        "df[[\"thalach\"]]=scaler.fit_transform(df[[\"thalach\"]])"
      ],
      "metadata": {
        "id": "EiSXkddHT5tS"
      },
      "execution_count": 20,
      "outputs": []
    },
    {
      "cell_type": "code",
      "source": [
        "from sklearn.linear_model import LogisticRegression\n",
        "from sklearn.svm import SVC\n",
        "from sklearn.neighbors import KNeighborsClassifier\n",
        "from sklearn.tree import DecisionTreeClassifier"
      ],
      "metadata": {
        "id": "K-dBj_PjWV4G"
      },
      "execution_count": 21,
      "outputs": []
    },
    {
      "cell_type": "code",
      "source": [
        "models=[LogisticRegression(max_iter=1000),SVC(kernel=\"linear\"),KNeighborsClassifier(),DecisionTreeClassifier()]"
      ],
      "metadata": {
        "id": "HXSYIAxGWVgr"
      },
      "execution_count": 31,
      "outputs": []
    },
    {
      "cell_type": "code",
      "source": [
        "X_train, X_test, Y_train, Y_test = train_test_split(X, Y, test_size=0.2, random_state=42)"
      ],
      "metadata": {
        "id": "9N62RDfHSzcw"
      },
      "execution_count": 32,
      "outputs": []
    },
    {
      "cell_type": "code",
      "source": [
        "print(X.shape, X_train.shape, X_test.shape)"
      ],
      "metadata": {
        "colab": {
          "base_uri": "https://localhost:8080/"
        },
        "id": "uek2PCEOfpqf",
        "outputId": "d2f92dbc-9728-4f7e-d91c-06b8c711363e"
      },
      "execution_count": 38,
      "outputs": [
        {
          "output_type": "stream",
          "name": "stdout",
          "text": [
            "(1025, 13) (820, 13) (205, 13)\n"
          ]
        }
      ]
    },
    {
      "cell_type": "code",
      "source": [
        "def compare_model_train_test():\n",
        "  best_accuracy=0\n",
        "  best_model=None\n",
        "\n",
        "  for model in models:\n",
        "    model.fit(X_train,Y_train)\n",
        "    prediction = model.predict(X_test)\n",
        "    accuracy = accuracy_score(Y_test,prediction)\n",
        "    print(\"Accuracy of the model\",model,\"=\",accuracy)\n",
        "\n",
        "  if accuracy > best_accuracy:\n",
        "              best_accuracy = accuracy\n",
        "              best_model = model\n",
        "              print(f\"\\nBest model: {best_model.__class__.__name__} with accuracy= {best_accuracy}\")\n",
        "\n",
        "compare_model_train_test()"
      ],
      "metadata": {
        "colab": {
          "base_uri": "https://localhost:8080/"
        },
        "id": "EyiSLT-VXY6A",
        "outputId": "0e0e6ffe-8b5a-41ee-9e7f-e515b18de3d1"
      },
      "execution_count": 37,
      "outputs": [
        {
          "output_type": "stream",
          "name": "stdout",
          "text": [
            "Accuracy of the model LogisticRegression(max_iter=1000) = 0.7951219512195122\n",
            "Accuracy of the model SVC(kernel='linear') = 0.8048780487804879\n",
            "Accuracy of the model KNeighborsClassifier() = 0.7317073170731707\n",
            "Accuracy of the model DecisionTreeClassifier() = 0.9853658536585366\n",
            "\n",
            "Best model: DecisionTreeClassifier with accuracy= 0.9853658536585366\n"
          ]
        }
      ]
    }
  ]
}